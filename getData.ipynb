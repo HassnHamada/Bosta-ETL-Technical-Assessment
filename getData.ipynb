{
 "cells": [
  {
   "cell_type": "markdown",
   "metadata": {},
   "source": [
    "## Method 1: Using PRAW"
   ]
  },
  {
   "cell_type": "code",
   "execution_count": null,
   "metadata": {},
   "outputs": [],
   "source": [
    "import praw\n",
    "import dotenv\n",
    "import os\n",
    "\n",
    "# Load environment variables from .env file\n",
    "dotenv.load_dotenv()\n",
    "clinet_id = os.getenv(\"CLIENT_ID\")\n",
    "client_secret = os.getenv(\"CLIENT_SECRET\")\n",
    "\n",
    "# Authenticate\n",
    "reddit = praw.Reddit(\n",
    "    client_id=clinet_id,\n",
    "    client_secret=client_secret,\n",
    "    user_agent=\"MyRedditBot/1.0 by u/Hassn_Hamada\",\n",
    ")\n",
    "\n",
    "subreddit = reddit.subreddit(\"WutheringWaves\")\n",
    "\n",
    "for post in subreddit.hot(limit=5):  # Fetch top 5 hot posts\n",
    "    print(f\"Title: {post.title}, Upvotes: {post.score}, URL: {post.url}\")"
   ]
  },
  {
   "cell_type": "markdown",
   "metadata": {},
   "source": [
    "## Method 2: Using Reddit's REST API"
   ]
  },
  {
   "cell_type": "code",
   "execution_count": null,
   "metadata": {},
   "outputs": [],
   "source": [
    "import requests\n",
    "import json\n",
    "\n",
    "headers = {\"User-Agent\": \"Mozilla/5.0\"}\n",
    "response = requests.get(\"https://www.reddit.com/r/WutheringWaves/hot.json?limit=1\", headers=headers)\n",
    "data = response.json()\n",
    "\n",
    "posts_with_comments = []\n",
    "\n",
    "for post in data[\"data\"][\"children\"]:\n",
    "    post_id = post[\"data\"][\"id\"]\n",
    "    post_title = post[\"data\"][\"title\"]\n",
    "    post_url = post[\"data\"][\"url\"]\n",
    "    comments_url = f\"https://www.reddit.com/r/{subreddit}/comments/{post_id}.json\"\n",
    "\n",
    "    comments_response = requests.get(comments_url, headers=headers)\n",
    "    comments_data = comments_response.json()\n",
    "    with open('comments.json', 'w') as f:\n",
    "        json.dump(comments_data, f, indent=4)\n",
    "    break\n",
    "    # Extract top-level comments\n",
    "    # comments = []\n",
    "    # if len(comments_data) > 1:  # Comments are in the second part of the JSON\n",
    "    #     for comment in comments_data[1][\"data\"][\"children\"]:\n",
    "    #         if \"body\" in comment[\"data\"]:  # Ignore deleted or removed comments\n",
    "    #             comments.append(comment[\"data\"][\"body\"])\n",
    "\n",
    "    # # Store post details and comments\n",
    "    # posts_with_comments.append({\n",
    "    #     \"title\": post_title,\n",
    "    #     \"url\": post_url,\n",
    "    #     \"comments\": comments\n",
    "    # })\n",
    "with open('response.json', 'w') as f:\n",
    "    json.dump(data[\"data\"][\"children\"], f, indent=4)\n",
    "\n",
    "for post in data[\"data\"][\"children\"]:\n",
    "    print(f\"Title: {post['data']['title']}, Upvotes: {post['data']['ups']}, URL: {post['data']['url']}\")\n"
   ]
  }
 ],
 "metadata": {
  "kernelspec": {
   "display_name": "Python 3",
   "language": "python",
   "name": "python3"
  },
  "language_info": {
   "codemirror_mode": {
    "name": "ipython",
    "version": 3
   },
   "file_extension": ".py",
   "mimetype": "text/x-python",
   "name": "python",
   "nbconvert_exporter": "python",
   "pygments_lexer": "ipython3",
   "version": "3.11.11"
  }
 },
 "nbformat": 4,
 "nbformat_minor": 2
}
